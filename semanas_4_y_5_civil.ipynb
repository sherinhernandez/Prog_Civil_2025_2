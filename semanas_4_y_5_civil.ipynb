{
  "nbformat": 4,
  "nbformat_minor": 0,
  "metadata": {
    "colab": {
      "provenance": [],
      "authorship_tag": "ABX9TyMKGpU4cef5uLiB9mJvCzS1",
      "include_colab_link": true
    },
    "kernelspec": {
      "name": "python3",
      "display_name": "Python 3"
    },
    "language_info": {
      "name": "python"
    }
  },
  "cells": [
    {
      "cell_type": "markdown",
      "metadata": {
        "id": "view-in-github",
        "colab_type": "text"
      },
      "source": [
        "<a href=\"https://colab.research.google.com/github/sherinhernandez/Prog_Civil_2025_2/blob/main/semanas_4_y_5_civil.ipynb\" target=\"_parent\"><img src=\"https://colab.research.google.com/assets/colab-badge.svg\" alt=\"Open In Colab\"/></a>"
      ]
    },
    {
      "cell_type": "markdown",
      "source": [
        "# Situación de Interés en Ingeniería Civil fi :\n",
        "\n",
        "\n",
        " Un ingeniero estructural necesita calcular el peso de diferentes elementos de una construcción (vigas, columnas). El programa debe tener una base de datos con las densidades de materiales comunes (acero, concreto, madera) y, a partir del tipo de material y el volumen del elemento, debe calcular su peso total.\n",
        "\n",
        " Caso de Ingeniería Civil: Calculadora de Peso Estructural (Diccionarios y Funciones)\n",
        "• Paso a Paso del Código:\n",
        "1. Crear un diccionario que funcione como una base de datos de densidades. La clave será el\n",
        "nombre del material y el valor será su densidad en kg/m³.\n",
        "2. Crear una función calcular_peso que reciba el diccionario de densidades, el nombre del material\n",
        "y su volumen.\n",
        "3. Dentro de la función, buscar la densidad del material en el diccionario.\n",
        "4. Si el material existe, calcular y devolver el peso (densidad * volumen). Si no, devolver un mensaje\n",
        "de error o None.\n",
        "5. En el programa principal, pedir al usuario el tipo de material y las dimensiones del elemento para\n",
        "calcular su volumen.\n",
        "6. Llamar a la función calcular_peso y mostrar el resultado."
      ],
      "metadata": {
        "id": "3UDcw2b7R90b"
      }
    },
    {
      "cell_type": "code",
      "source": [],
      "metadata": {
        "id": "TK73026MX-TI"
      },
      "execution_count": null,
      "outputs": []
    },
    {
      "cell_type": "code",
      "metadata": {
        "colab": {
          "base_uri": "https://localhost:8080/"
        },
        "id": "ee044786",
        "outputId": "1ea74d62-2c8a-43af-fe0a-577c2bdddef7"
      },
      "source": [
        "# Crear un diccionario con las densidades de materiales comunes en kg/m³\n",
        "densidades_materiales = {\n",
        "    \"acero\": 7850,\n",
        "    \"concreto\": 2400,\n",
        "    \"madera\": 700,  # Densidad promedio de madera, puede variar según el tipo\n",
        "    \"aluminio\": 2700,\n",
        "    \"ladrillo\": 1800\n",
        "}\n",
        "\n",
        "# Función para calcular el peso\n",
        "def calcular_peso(diccionario_densidades, material, volumen):\n",
        "    \"\"\"\n",
        "    Calcula el peso de un elemento estructural.\n",
        "\n",
        "    Args:\n",
        "        diccionario_densidades: Diccionario con las densidades de los materiales.\n",
        "        material: Nombre del material (string).\n",
        "        volumen: Volumen del elemento en m³ (float).\n",
        "\n",
        "    Returns:\n",
        "        El peso del elemento en kg (float) si el material existe,\n",
        "        o un mensaje de error (string) si el material no está en el diccionario.\n",
        "    \"\"\"\n",
        "    material_lower = material.lower() # Convertir a minúsculas para comparación insensible a mayúsculas\n",
        "    if material_lower in diccionario_densidades:\n",
        "        densidad = diccionario_densidades[material_lower]\n",
        "        peso = densidad * volumen\n",
        "        return peso\n",
        "    else:\n",
        "        return f\"Error: Material '{material}' no encontrado en la base de datos de densidades.\"\n",
        "\n",
        "# Programa principal\n",
        "if __name__ == \"__main__\":\n",
        "    print(\"Calculadora de Peso Estructural\")\n",
        "\n",
        "    # Pedir al usuario el tipo de material\n",
        "    print(\"\\nMateriales disponibles:\")\n",
        "    for material in densidades_materiales.keys():\n",
        "        print(f\"- {material.capitalize()}\")\n",
        "\n",
        "    tipo_material = input(\"\\nIngrese el tipo de material: \")\n",
        "\n",
        "    # Pedir al usuario las dimensiones para calcular el volumen\n",
        "    try:\n",
        "        print(\"\\nIngrese las dimensiones del elemento para calcular el volumen (en metros):\")\n",
        "        largo = float(input(\"Largo (m): \"))\n",
        "        ancho = float(input(\"Ancho (m): \"))\n",
        "        alto = float(input(\"Alto (m): \"))\n",
        "\n",
        "        volumen_elemento = largo * ancho * alto\n",
        "\n",
        "        # Llamar a la función calcular_peso\n",
        "        peso_total = calcular_peso(densidades_materiales, tipo_material, volumen_elemento)\n",
        "\n",
        "        # Mostrar el resultado\n",
        "        if isinstance(peso_total, float):\n",
        "            print(f\"\\nEl peso del elemento de {tipo_material.capitalize()} con un volumen de {volumen_elemento:.2f} m³ es: {peso_total:.2f} kg\")\n",
        "        else:\n",
        "            print(peso_total) # Mostrar el mensaje de error si el material no fue encontrado\n",
        "\n",
        "    except ValueError:\n",
        "        print(\"Error: Ingrese valores numéricos válidos para las dimensiones.\")"
      ],
      "execution_count": 9,
      "outputs": [
        {
          "output_type": "stream",
          "name": "stdout",
          "text": [
            "Calculadora de Peso Estructural\n",
            "\n",
            "Materiales disponibles:\n",
            "- Acero\n",
            "- Concreto\n",
            "- Madera\n",
            "- Aluminio\n",
            "- Ladrillo\n",
            "\n",
            "Ingrese el tipo de material: acero\n",
            "\n",
            "Ingrese las dimensiones del elemento para calcular el volumen (en metros):\n",
            "Largo (m): 12\n",
            "Ancho (m): 5\n",
            "Alto (m): 1\n",
            "\n",
            "El peso del elemento de Acero con un volumen de 60.00 m³ es: 471000.00 kg\n"
          ]
        }
      ]
    }
  ]
}