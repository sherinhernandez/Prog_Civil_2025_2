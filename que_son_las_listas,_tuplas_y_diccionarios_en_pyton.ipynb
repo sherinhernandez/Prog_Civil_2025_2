{
  "cells": [
    {
      "cell_type": "markdown",
      "metadata": {
        "id": "view-in-github",
        "colab_type": "text"
      },
      "source": [
        "<a href=\"https://colab.research.google.com/github/sherinhernandez/Prog_Civil_2025_2/blob/main/que_son_las_listas%2C_tuplas_y_diccionarios_en_pyton.ipynb\" target=\"_parent\"><img src=\"https://colab.research.google.com/assets/colab-badge.svg\" alt=\"Open In Colab\"/></a>"
      ]
    },
    {
      "cell_type": "markdown",
      "source": [
        "Las listas, tuplas y diccionarios son **tipos de datos de colección** en Python que se usan para almacenar múltiples elementos. La principal diferencia entre ellos radica en su mutabilidad (si se pueden cambiar o no), si están ordenados y si los elementos tienen una clave asociada.\n",
        "\n",
        "## Listas 📋\n",
        "\n",
        "Una **lista** es una colección de elementos ordenados y **mutables**, lo que significa que puedes añadir, eliminar o modificar sus elementos después de su creación. Se definen con corchetes `[]` y los elementos están separados por comas.\n",
        "\n",
        "  * **Características principales:**\n",
        "      * **Ordenadas**: Mantienen el orden en el que se agregaron los elementos.\n",
        "      * **Mutables**: Se pueden cambiar.\n",
        "      * **Permiten duplicados**: Puedes tener el mismo valor varias veces.\n",
        "      * **Pueden contener diferentes tipos de datos**: Una lista puede tener enteros, cadenas de texto, etc., al mismo tiempo.\n",
        "\n",
        "**Ejemplo:**"
      ],
      "metadata": {
        "id": "H1u0vPoWOxso"
      }
    },
    {
      "cell_type": "code",
      "source": [
        "mi_lista = [1, \"hola\", 3.14, True]\n",
        "mi_lista.append(5)  # Añade un elemento\n",
        "print(mi_lista)\n",
        "# Salida: [1, 'hola', 3.14, True, 5]"
      ],
      "outputs": [],
      "execution_count": null,
      "metadata": {
        "id": "Uh20NBRnOxsv"
      }
    },
    {
      "cell_type": "markdown",
      "source": [
        "-----\n",
        "\n",
        "## Tuplas 📦\n",
        "\n",
        "Una **tupla** es una colección de elementos ordenados e **inmutables**, lo que significa que no se pueden modificar una vez creadas. Se definen con paréntesis `()` o simplemente con comas.\n",
        "\n",
        "  * **Características principales:**\n",
        "      * **Ordenadas**: Mantienen el orden de los elementos.\n",
        "      * **Inmutables**: No se pueden cambiar.\n",
        "      * **Permiten duplicados**: Al igual que las listas.\n",
        "      * **Pueden contener diferentes tipos de datos**: Similar a las listas.\n",
        "\n",
        "**Ejemplo:**"
      ],
      "metadata": {
        "id": "yHcTBTO5Oxsy"
      }
    },
    {
      "cell_type": "code",
      "source": [
        "mi_tupla = (1, \"hola\", 3.14)\n",
        "# mi_tupla.append(5)  # Esto daría un error\n",
        "print(mi_tupla)\n",
        "# Salida: (1, 'hola', 3.14)"
      ],
      "outputs": [],
      "execution_count": null,
      "metadata": {
        "id": "u3CNmYpEOxsz"
      }
    },
    {
      "cell_type": "markdown",
      "source": [
        "Las tuplas se usan a menudo para datos que no deben cambiar, como coordenadas geográficas o una colección de constantes.\n",
        "\n",
        "-----\n",
        "\n",
        "## Diccionarios 📚\n",
        "\n",
        "Un **diccionario** es una colección de elementos **mutables** y **no ordenados** (a partir de Python 3.7, el orden de inserción se mantiene) que almacenan datos como pares de **clave: valor**. Cada clave debe ser única.\n",
        "\n",
        "  * **Características principales:**\n",
        "      * **No ordenados (históricamente)**: El orden no estaba garantizado, aunque en versiones recientes de Python el orden de inserción se mantiene.\n",
        "      * **Mutables**: Se pueden añadir, eliminar o modificar pares de clave: valor.\n",
        "      * **Pares de clave: valor**: Se accede a los valores a través de sus claves, no por un índice numérico.\n",
        "      * **Claves únicas**: Cada clave debe ser distinta.\n",
        "\n",
        "**Ejemplo:**"
      ],
      "metadata": {
        "id": "dSssWBfXOxsz"
      }
    },
    {
      "cell_type": "code",
      "source": [
        "mi_diccionario = {\"nombre\": \"Juan\", \"edad\": 30, \"ciudad\": \"Madrid\"}\n",
        "mi_diccionario[\"profesion\"] = \"Ingeniero\"  # Añade un par clave:valor\n",
        "print(mi_diccionario[\"edad\"])\n",
        "# Salida: 30\n",
        "print(mi_diccionario)\n",
        "# Salida: {'nombre': 'Juan', 'edad': 30, 'ciudad': 'Madrid', 'profesion': 'Ingeniero'}"
      ],
      "outputs": [],
      "execution_count": null,
      "metadata": {
        "id": "rW1H1ch3Oxsz"
      }
    },
    {
      "cell_type": "markdown",
      "source": [
        "Los diccionarios son útiles para representar datos estructurados, como la información de una persona o las configuraciones de una aplicación."
      ],
      "metadata": {
        "id": "acO9ETByOxs0"
      }
    }
  ],
  "metadata": {
    "colab": {
      "provenance": [],
      "include_colab_link": true
    },
    "kernelspec": {
      "display_name": "Python 3",
      "name": "python3"
    }
  },
  "nbformat": 4,
  "nbformat_minor": 0
}